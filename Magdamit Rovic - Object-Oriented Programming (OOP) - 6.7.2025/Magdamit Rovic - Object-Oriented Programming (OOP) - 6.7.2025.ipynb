{
 "cells": [
  {
   "cell_type": "markdown",
   "id": "62c421a6-4c91-4317-b960-ea5d41cb7121",
   "metadata": {},
   "source": [
    "# A. Object-Oriented Programming (OOP)\n",
    "\n",
    "### What is init?\n",
    "\n",
    "in Python, <b>init</b> is a special method used in classes. It's called the constructor and is automatically executed when a new object of the class is created. \n",
    "\n",
    "### Purpose of init. \n",
    "- It initializes the object's attributes.\n",
    "- It allows you to pass in values when creating an object. "
   ]
  },
  {
   "cell_type": "code",
   "execution_count": 4,
   "id": "9bff81bb-3888-4440-853c-8e8ecac88ff7",
   "metadata": {},
   "outputs": [],
   "source": [
    "class ClassName: \n",
    "    def __init__(self, param1, param2): \n",
    "        self.param1 = param1 \n",
    "        self.param2 = param2 "
   ]
  },
  {
   "cell_type": "code",
   "execution_count": 6,
   "id": "9009f8c7-d3be-4c58-84c2-f5c79974bc75",
   "metadata": {},
   "outputs": [
    {
     "name": "stdout",
     "output_type": "stream",
     "text": [
      "220\n",
      "0.25\n"
     ]
    }
   ],
   "source": [
    "class Resistor: \n",
    "    def __init__(self, resistance, power_rating):\n",
    "        self.resistance = resistance \n",
    "        self.power_rating = power_rating\n",
    "\n",
    "r1 = Resistor(220, 0.25) \n",
    "print(r1.resistance) \n",
    "print(r1.power_rating)"
   ]
  },
  {
   "cell_type": "markdown",
   "id": "4bfc0198-477f-4f78-86d7-e0f1909140b6",
   "metadata": {},
   "source": [
    "### Notes \n",
    "\n",
    "We define a class Resistor to simulate a physical resistor component. The constructor __init__ takes two parameters: resistance (in Ohms) and power rating (in Watts)."
   ]
  },
  {
   "cell_type": "code",
   "execution_count": 40,
   "id": "21f1da93-5add-40ed-9c7a-6bdef25ac20b",
   "metadata": {},
   "outputs": [
    {
     "name": "stdout",
     "output_type": "stream",
     "text": [
      "Resistor: 220.00 Ω \n",
      "Watts: 0.25 W \n",
      "Voltage: 7.42 V\n"
     ]
    }
   ],
   "source": [
    "# Class Resistor \n",
    "import numpy as np\n",
    "class Resistor: \n",
    "    def __init__(self, resistance, power_rating):\n",
    "        self.resistance = resistance \n",
    "        self.power_rating = power_rating\n",
    "        self.voltage = np.sqrt(resistance * power_rating)\n",
    "\n",
    "    def describe(self): \n",
    "        status = \"Resistor: {:.2f} Ω \\nWatts: {:.2f} W \\nVoltage: {:.2f} V\".format(self.resistance, self.power_rating, self.voltage)\n",
    "\n",
    "        return status\n",
    "    def parallel_resistance(self, *params): \n",
    "        return sum([i ** -1 for i in params]) ** -1\n",
    "\n",
    "r1 = Resistor(220, 0.25) \n",
    "print(r1.describe())"
   ]
  },
  {
   "cell_type": "code",
   "execution_count": null,
   "id": "c2f0ac32-515c-4dd4-b74d-d0ed41053116",
   "metadata": {},
   "outputs": [],
   "source": []
  }
 ],
 "metadata": {
  "kernelspec": {
   "display_name": "Python 3 (ipykernel)",
   "language": "python",
   "name": "python3"
  },
  "language_info": {
   "codemirror_mode": {
    "name": "ipython",
    "version": 3
   },
   "file_extension": ".py",
   "mimetype": "text/x-python",
   "name": "python",
   "nbconvert_exporter": "python",
   "pygments_lexer": "ipython3",
   "version": "3.13.3"
  }
 },
 "nbformat": 4,
 "nbformat_minor": 5
}
